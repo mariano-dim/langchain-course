{
 "cells": [
  {
   "cell_type": "code",
   "execution_count": 2,
   "id": "9f1b8b1b",
   "metadata": {},
   "outputs": [
    {
     "name": "stdout",
     "output_type": "stream",
     "text": [
      "Claro, te propongo el nombre \"IsidroFit\". Es corto, fácil de recordar y evoca una comunidad activa y saludable en San Isidro. Además, sugiere un enfoque en el fitness y el bienestar.\n"
     ]
    }
   ],
   "source": [
    "from langchain_openai import ChatOpenAI\n",
    "from langchain_core.prompts import ChatPromptTemplate\n",
    "\n",
    "prompt = ChatPromptTemplate.from_messages([\n",
    "    (\"system\", \"Eres un creativo de branding deportivo.\"),\n",
    "    (\"human\", \"Propón 1 nombre corto y pegadizo para un club en {zona}.\")\n",
    "])\n",
    "\n",
    "chain = prompt | ChatOpenAI(model=\"gpt-4o-mini\", temperature=0.9)\n",
    "print(chain.invoke({\"zona\": \"San Isidro\"}).content)"
   ]
  }
 ],
 "metadata": {
  "kernelspec": {
   "display_name": "Python 3",
   "language": "python",
   "name": "python3"
  },
  "language_info": {
   "codemirror_mode": {
    "name": "ipython",
    "version": 3
   },
   "file_extension": ".py",
   "mimetype": "text/x-python",
   "name": "python",
   "nbconvert_exporter": "python",
   "pygments_lexer": "ipython3",
   "version": "3.12.1"
  }
 },
 "nbformat": 4,
 "nbformat_minor": 5
}
