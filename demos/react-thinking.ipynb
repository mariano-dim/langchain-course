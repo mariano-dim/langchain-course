{
 "cells": [
  {
   "cell_type": "code",
   "execution_count": 8,
   "id": "e5444c73",
   "metadata": {},
   "outputs": [
    {
     "ename": "SyntaxError",
     "evalue": "unterminated string literal (detected at line 37) (4085783293.py, line 37)",
     "output_type": "error",
     "traceback": [
      "  \u001b[36mCell\u001b[39m\u001b[36m \u001b[39m\u001b[32mIn[8]\u001b[39m\u001b[32m, line 37\u001b[39m\n\u001b[31m    \u001b[39m\u001b[31m\")\u001b[39m\n    ^\n\u001b[31mSyntaxError\u001b[39m\u001b[31m:\u001b[39m unterminated string literal (detected at line 37)\n"
     ]
    }
   ],
   "source": [
    "from langchain_openai import OpenAI\n",
    "from langchain.prompts import PromptTemplate\n",
    "from langchain.chains import LLMChain\n",
    "from langchain_community.utilities import SerpAPIWrapper\n",
    "import nest_asyncio\n",
    "import asyncio\n",
    "\n",
    "nest_asyncio.apply()\n",
    "\n",
    "# Initialize SerpAPI tool (async)\n",
    "serpapi = SerpAPIWrapper()\n",
    "\n",
    "async def search_text(query: str) -> str:\n",
    "    results = await serpapi.arun(query)\n",
    "    try:\n",
    "        snippet = results[\"organic_results\"][0].get(\"snippet\")\n",
    "        return snippet or results[\"organic_results\"][0].get(\"title\")\n",
    "    except Exception:\n",
    "        return \"No se encontró texto relevante.\"\n",
    "\n",
    "# Configurar LLM OpenAI clásico (usa OPENAI_API_KEY en el entorno)\n",
    "llm = OpenAI(model=\"gpt-4o-mini\", temperature=0.7)\n",
    "\n",
    "# Plantilla prompt para generar texto con CoT basado en búsqueda\n",
    "generate_template = (\n",
    "    \"Eres un escritor creativo que razona paso a paso.\\n\"\n",
    "    \"Basándote en este texto: '''{search_result}''', escribe un texto de 5 líneas \"\n",
    "    \"sobre '{topic}' en estilo {style}.\"\n",
    "    )\n",
    "generate_prompt = PromptTemplate(input_variables=[\"search_result\", \"topic\", \"style\"], template=generate_template)\n",
    "generate_chain = LLMChain(llm=llm, prompt=generate_prompt, output_key=\"generated_text\")\n",
    "\n",
    "# Plantilla prompt para refinar el texto generado\n",
    "refine_template = (\n",
    "    \"Ahora eres un editor que pule textos.\\n\"\n",
    "    \"Pulir el siguiente texto para mejorar claridad y estilo:\\n{generated_text}\"\n",
    "    \")\n",
    "refine_prompt = PromptTemplate(input_variables=[\"generated_text\"], template=refine_template)\n",
    "refine_chain = LLMChain(llm=llm, prompt=refine_prompt, output_key=\"refined_text\")\n",
    "\n",
    "# Ejecutar las chains secuencialmente dentro del loop async usando threads para no bloquear el event loop\n",
    "async def main():\n",
    "    query = \"la luna\"\n",
    "    search_result = await search_text(query)\n",
    "    # Ejecutar generate_chain de forma sincrónica en un thread\n",
    "    generated_text = await asyncio.to_thread(generate_chain.run, {\"search_result\": search_result, \"topic\": \"la luna\", \"style\": \"poético y evocativo\"})\n",
    "    # Ejecutar refine_chain con el resultado anterior\n",
    "    refined_text = await asyncio.to_thread(refine_chain.run, {\"generated_text\": generated_text})\n",
    "    print(\"Texto generado:\\n\", generated_text)\n",
    "    print(\"\\nTexto refinado:\\n\", refined_text)\n",
    "\n",
    "await main()"
   ]
  }
 ],
 "metadata": {
  "kernelspec": {
   "display_name": "Python 3",
   "language": "python",
   "name": "python3"
  },
  "language_info": {
   "codemirror_mode": {
    "name": "ipython",
    "version": 3
   },
   "file_extension": ".py",
   "mimetype": "text/x-python",
   "name": "python",
   "nbconvert_exporter": "python",
   "pygments_lexer": "ipython3",
   "version": "3.12.1"
  }
 },
 "nbformat": 4,
 "nbformat_minor": 5
}
