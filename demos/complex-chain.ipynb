{
 "cells": [
  {
   "cell_type": "code",
   "execution_count": 22,
   "id": "d90e3686",
   "metadata": {},
   "outputs": [
    {
     "name": "stdout",
     "output_type": "stream",
     "text": [
      "Story: Here is a short excerpt related to one of Borges's renowned stories, \"El Aleph\":\n",
      "\n",
      "\"Cerré los ojos, los abrí. Entonces vi el Aleph. Arribo, ahora, al inefable centro de mi relato; empieza, aquí, mi desesperación de escritor.\"\n",
      "\n",
      "This line encapsulates the moment when the narrator perceives the infinite space contained within the Aleph, highlighting Borges's exploration of infinity and the limitless nature of the universe.\n",
      "\n",
      "Analysis: La oración del extracto de \"El Aleph\" de Jorge Luis Borges transmite una mezcla de asombro, maravilla y cierta ansiedad o angustia. La sensación predominante es la de lo sublime y lo inefable, ya que el narrador describe el momento en que percibe el Aleph, un punto que contiene todo el infinito del universo. Este descubrimiento es abrumador y desafiante para el narrador, lo que se ve reflejado en la \"desesperación de escritor\" que menciona. Esto sugiere una lucha interna para captar y expresar en palabras algo que trasciende la comprensión humana. La narrativa de Borges aquí no solo explora la infinitud, sino también la incapacidad del lenguaje para capturar completamente experiencias tan vastas y complejas.\n",
      "\n",
      "Rewritten Story (Happy): Cerré los ojos, los abrí... ¡y ahí estaba el Aleph! Llegamos, amigos, al punto culminante de mi relato, donde las cosas se ponen tan complicadas que hasta mi teclado empieza a sudar. Imagínense mi cara de asombro: ¡era como ver toda mi lista de tareas pendientes en un solo lugar! Ahí estaba el universo entero, tan infinito como las recetas de la abuela y tan desconcertante como los finales de las telenovelas. Y es justo aquí donde empiezo a preocuparme como escritor, porque describir esto es como intentar meter un elefante en un Fiat 600, ¡mis palabras están de huelga!\n",
      "dict_keys(['topic', 'story', 'analysis', 'rewritten_story'])\n"
     ]
    }
   ],
   "source": [
    "from langchain_core.prompts import PromptTemplate\n",
    "from langchain_openai import ChatOpenAI\n",
    "from langchain_core.output_parsers import StrOutputParser\n",
    "from langchain_core.runnables import RunnablePassthrough\n",
    "from langchain_community.utilities import SerpAPIWrapper\n",
    "from langchain.agents import initialize_agent, Tool, AgentExecutor, AgentType\n",
    "\n",
    "# Initialize the model 'Conversational' variant of GPT-4o\n",
    "llm = ChatOpenAI(temperature=0.9, model_name=\"gpt-4o\")\n",
    "\n",
    "# Initialize SerpAPI tool using wrapper\n",
    "serpapi_wrapper = SerpAPIWrapper()\n",
    "\n",
    "serpapi_tool = Tool(\n",
    "    name=\"serpapi\",\n",
    "    description=\"busca informacion en la web usando una tool -serpapi-.\",\n",
    "    func=serpapi_wrapper.run\n",
    ")\n",
    "\n",
    "# Create an agent with SerpAPI tool\n",
    "agent = initialize_agent(\n",
    "    tools=[serpapi_tool],\n",
    "    llm=llm,\n",
    "    agent_type=AgentType.ZERO_SHOT_REACT_DESCRIPTION,\n",
    "    handle_parsing_errors=True\n",
    ")\n",
    "\n",
    "# First chain: Agent generates text using SerpAPI\n",
    "story_prompt = PromptTemplate.from_template(\n",
    "    \"Usa la herramienta de busqueda para buscar un texto de Borges en la web (de 3 a 5 lineas) relacionadas con alguno de sus mas famosos textos.\"\n",
    ")\n",
    "# story_chain = story_prompt | agent | StrOutputParser()\n",
    "story_chain = story_prompt | agent | (lambda x: x['output']) | StrOutputParser()\n",
    "\n",
    "# Second chain analyzes the story\n",
    "analysis_prompt = PromptTemplate.from_template(\n",
    "    \"Analiza en sentimiento de la historia:\\n{story}\"\n",
    ")\n",
    "analysis_chain = analysis_prompt | llm | StrOutputParser()\n",
    "\n",
    "# Third chain: Rewrite the story with a specified sentiment\n",
    "rewrite_prompt = PromptTemplate.from_template(\n",
    "    \"Reescribe la siguiente historia con un sentimiento {sentiment}:\\n{story}\"\n",
    ")\n",
    "rewrite_chain = rewrite_prompt | llm | StrOutputParser()\n",
    "\n",
    "# Combine chains\n",
    "# story_with_analysis = story_chain | analysis_chain\n",
    "# Run the combined chain\n",
    "# story_analysis = story_with_analysis.invoke({\"topic\": \"a rainy day\"})\n",
    "# print(\"\\nAnalysis:\", story_analysis)\n",
    "\n",
    "# Using RunnablePassthrough.assign to preserve original data\n",
    "enhanced_chain = RunnablePassthrough.assign(\n",
    "    story=story_chain  # Add 'story' key with generated content\n",
    ").assign(\n",
    "    analysis=analysis_chain  # Add 'analysis' key with analysis of the story\n",
    ").assign(\n",
    "    rewritten_story=lambda x: rewrite_chain.invoke({\"story\": x[\"story\"], \"sentiment\": \"humoristico\"})\n",
    ")\n",
    "\n",
    "# Execute the chain\n",
    "result = enhanced_chain.invoke({\"topic\": \"El azar\"})\n",
    "print(\"Story:\", result['story'])\n",
    "print(\"\\nAnalysis:\", result['analysis'])\n",
    "print(\"\\nRewritten Story (Happy):\", result['rewritten_story'])\n",
    "print(result.keys())\n",
    "\n"
   ]
  }
 ],
 "metadata": {
  "kernelspec": {
   "display_name": "Python 3",
   "language": "python",
   "name": "python3"
  },
  "language_info": {
   "codemirror_mode": {
    "name": "ipython",
    "version": 3
   },
   "file_extension": ".py",
   "mimetype": "text/x-python",
   "name": "python",
   "nbconvert_exporter": "python",
   "pygments_lexer": "ipython3",
   "version": "3.12.1"
  }
 },
 "nbformat": 4,
 "nbformat_minor": 5
}
