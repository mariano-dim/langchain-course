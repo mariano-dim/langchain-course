{
 "cells": [
  {
   "cell_type": "code",
   "execution_count": 1,
   "id": "d90e3686",
   "metadata": {},
   "outputs": [
    {
     "name": "stderr",
     "output_type": "stream",
     "text": [
      "/tmp/ipykernel_4372/1573371254.py:21: LangChainDeprecationWarning: LangChain agents will continue to be supported, but it is recommended for new use cases to be built with LangGraph. LangGraph offers a more flexible and full-featured framework for building agents, including support for tool-calling, persistence of state, and human-in-the-loop workflows. For details, refer to the `LangGraph documentation <https://langchain-ai.github.io/langgraph/>`_ as well as guides for `Migrating from AgentExecutor <https://python.langchain.com/docs/how_to/migrate_agent/>`_ and LangGraph's `Pre-built ReAct agent <https://langchain-ai.github.io/langgraph/how-tos/create-react-agent/>`_.\n",
      "  agent = initialize_agent(\n"
     ]
    },
    {
     "name": "stdout",
     "output_type": "stream",
     "text": [
      "Story: \"El jardín de los senderos que se bifurcan. Algo se agitó en mi recuerdo y pronuncié con incomprensible seguridad: —El jardín de mi antepasado Ts'ui Pên.\"\n",
      "\n",
      "Analysis: La historia mencionada, \"El jardín de los senderos que se bifurcan,\" es un cuento del escritor argentino Jorge Luis Borges. Al analizar el sentimiento de este fragmento en particular, es importante considerar el contexto general de la obra y los temas que Borges suele explorar.\n",
      "\n",
      "En esta línea, el sentimiento predominante podría ser uno de curiosidad e intriga. La mención de \"algo se agitó en mi recuerdo\" sugiere una conexión personal y profunda con el tema, mientras que la referencia al \"jardín de mi antepasado Ts'ui Pên\" evoca un sentido de misterio y exploración del pasado. Este tipo de conexión ancestral y la seguridad inexplicable con que el protagonista pronuncia estas palabras pueden resonar con sentimientos de nostalgia, búsqueda de identidad, y una fascinación por los enigmas.\n",
      "\n",
      "Además, la obra en su totalidad explora conceptos complejos como el tiempo, la realidad y el libre albedrío, añadiendo capas de reflexión filosófica que, aunque no explícitamente sentimentales, provocan una profundización emocional e intelectual en el lector.\n",
      "\n",
      "En resumen, el sentimiento del texto puede describirse como una mezcla de curiosidad, misterio, y una conexión personal y ancestral, que incita al lector a explorar más allá de lo evidente.\n",
      "\n",
      "Rewritten Story (Happy): Claro, aquí tienes una versión humorística de la historia:\n",
      "\n",
      "\"El jardín de los caminos que se multiplican como conejos. Algo hizo cosquillas en mi memoria y, con una seguridad que ni yo entendía, solté como si no hubiera mañana: —El jardín de mi ancestro Ts'ui Pên, el tipo con peor sentido de la orientación en toda la historia de mi familia.\"\n",
      "dict_keys(['topic', 'story', 'analysis', 'rewritten_story'])\n"
     ]
    }
   ],
   "source": [
    "from langchain_core.prompts import PromptTemplate\n",
    "from langchain_openai import ChatOpenAI\n",
    "from langchain_core.output_parsers import StrOutputParser\n",
    "from langchain_core.runnables import RunnablePassthrough\n",
    "from langchain_community.utilities import SerpAPIWrapper\n",
    "from langchain.agents import initialize_agent, Tool, AgentExecutor, AgentType\n",
    "\n",
    "# Initialize the model 'Conversational' variant of GPT-4o\n",
    "llm = ChatOpenAI(temperature=0.9, model_name=\"gpt-4o\")\n",
    "\n",
    "# Initialize SerpAPI tool using wrapper\n",
    "serpapi_wrapper = SerpAPIWrapper()\n",
    "\n",
    "serpapi_tool = Tool(\n",
    "    name=\"serpapi\",\n",
    "    description=\"busca informacion en la web usando una tool -serpapi-.\",\n",
    "    func=serpapi_wrapper.run\n",
    ")\n",
    "\n",
    "# Create an agent with SerpAPI tool\n",
    "agent = initialize_agent(\n",
    "    tools=[serpapi_tool],\n",
    "    llm=llm,\n",
    "    agent_type=AgentType.ZERO_SHOT_REACT_DESCRIPTION,\n",
    "    handle_parsing_errors=True\n",
    ")\n",
    "\n",
    "# First chain: Agent generates text using SerpAPI\n",
    "story_prompt = PromptTemplate.from_template(\n",
    "    \"Usa la herramienta de busqueda para buscar un texto de Borges en la web (de 3 a 5 lineas) relacionadas con alguno de sus mas famosos textos.\"\n",
    ")\n",
    "# story_chain = story_prompt | agent | StrOutputParser()\n",
    "story_chain = story_prompt | agent | (lambda x: x['output']) | StrOutputParser()\n",
    "\n",
    "# Second chain analyzes the story\n",
    "analysis_prompt = PromptTemplate.from_template(\n",
    "    \"Analiza en sentimiento de la historia:\\n{story}\"\n",
    ")\n",
    "analysis_chain = analysis_prompt | llm | StrOutputParser()\n",
    "\n",
    "# Third chain: Rewrite the story with a specified sentiment\n",
    "rewrite_prompt = PromptTemplate.from_template(\n",
    "    \"Reescribe la siguiente historia con un sentimiento {sentiment}:\\n{story}\"\n",
    ")\n",
    "rewrite_chain = rewrite_prompt | llm | StrOutputParser()\n",
    "\n",
    "# Combine chains\n",
    "# story_with_analysis = story_chain | analysis_chain\n",
    "# Run the combined chain\n",
    "# story_analysis = story_with_analysis.invoke({\"topic\": \"a rainy day\"})\n",
    "# print(\"\\nAnalysis:\", story_analysis)\n",
    "\n",
    "# Using RunnablePassthrough.assign to preserve original data\n",
    "enhanced_chain = RunnablePassthrough.assign(\n",
    "    story=story_chain  # Add 'story' key with generated content\n",
    ").assign(\n",
    "    analysis=analysis_chain  # Add 'analysis' key with analysis of the story\n",
    ").assign(\n",
    "    rewritten_story=lambda x: rewrite_chain.invoke({\"story\": x[\"story\"], \"sentiment\": \"humoristico\"})\n",
    ")\n",
    "\n",
    "# Execute the chain\n",
    "result = enhanced_chain.invoke({\"topic\": \"El azar\"})\n",
    "print(\"Story:\", result['story'])\n",
    "print(\"\\nAnalysis:\", result['analysis'])\n",
    "print(\"\\nRewritten Story (Happy):\", result['rewritten_story'])\n",
    "print(result.keys())\n",
    "\n"
   ]
  }
 ],
 "metadata": {
  "kernelspec": {
   "display_name": "Python 3",
   "language": "python",
   "name": "python3"
  },
  "language_info": {
   "codemirror_mode": {
    "name": "ipython",
    "version": 3
   },
   "file_extension": ".py",
   "mimetype": "text/x-python",
   "name": "python",
   "nbconvert_exporter": "python",
   "pygments_lexer": "ipython3",
   "version": "3.12.1"
  }
 },
 "nbformat": 4,
 "nbformat_minor": 5
}
